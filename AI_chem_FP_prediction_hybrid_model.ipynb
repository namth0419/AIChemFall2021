{
  "nbformat": 4,
  "nbformat_minor": 0,
  "metadata": {
    "colab": {
      "name": "AI_chem_FP_prediction_hybrid_model.ipynb",
      "provenance": [],
      "collapsed_sections": [
        "18GfzeFHiGev",
        "0v4vjEFpi3oX",
        "oKTWnp9hnkw3",
        "3LFLeaDkqKUx",
        "vaVwEIhJrtnX",
        "O5mIP15pqKUe",
        "-li3ZrVvuPFp"
      ]
    },
    "kernelspec": {
      "name": "python3",
      "display_name": "Python 3"
    },
    "language_info": {
      "name": "python"
    }
  },
  "cells": [
    {
      "cell_type": "markdown",
      "source": [
        "##POSTECH AI chemistry final assignment\n",
        ">This software is developed by Taehyun Nam(POSTECH, Chem. Eng.)</br>Build in 2021.12.14.\n",
        "\n",
        "Hybrid model is consists of five best performing ML model, and each model works simutaneously to generate individual prediction and those predictions are merged to calculate one unique prediction.\n",
        "</br></br>\n",
        "Please refer to the additional documentation for this hybrid model mechanism.\n"
      ],
      "metadata": {
        "id": "OVSDeRzHhBdS"
      }
    },
    {
      "cell_type": "markdown",
      "source": [
        "#####Package import section"
      ],
      "metadata": {
        "id": "18GfzeFHiGev"
      }
    },
    {
      "cell_type": "code",
      "execution_count": null,
      "metadata": {
        "id": "tSyALJ8IgoDD"
      },
      "outputs": [],
      "source": [
        "#install rdkit with kora\n",
        "!pip install kora\n",
        "import kora.install.rdkit\n",
        "\n",
        "!pip install rdkit-pypi\n",
        "\n",
        "import sys\n",
        "sys.path.append('/usr/local/lib/python3.7/site-packages/')"
      ]
    },
    {
      "cell_type": "code",
      "source": [
        "#import packages\n",
        "import numpy as np\n",
        "import matplotlib.pyplot as plt\n",
        "import seaborn as sns\n",
        "import pandas as pd\n",
        "from random import random\n",
        "from rdkit import Chem\n",
        "from rdkit.Chem import AllChem\n",
        "from rdkit.Chem import Draw\n",
        "from rdkit import ML\n",
        "from rdkit.Chem import Descriptors\n",
        "from rdkit.Chem.Draw import SimilarityMaps\n",
        "from rdkit.Chem import rdMolDescriptors\n",
        "from rdkit.ML.Descriptors import MoleculeDescriptors\n",
        "from sklearn.ensemble import RandomForestClassifier\n",
        "from sklearn import metrics\n",
        "from sklearn import preprocessing\n",
        "from sklearn.tree import DecisionTreeClassifier\n",
        "from sklearn.metrics import confusion_matrix\n",
        "from sklearn.neighbors import KNeighborsClassifier"
      ],
      "metadata": {
        "id": "S-aRPZUHiMr2"
      },
      "execution_count": 38,
      "outputs": []
    },
    {
      "cell_type": "markdown",
      "source": [
        "#####Data set pre-processing and Feature generation section"
      ],
      "metadata": {
        "id": "0v4vjEFpi3oX"
      }
    },
    {
      "cell_type": "code",
      "source": [
        "#upload csv file or upload directly by using left located toolbar\n",
        "from google.colab import files\n",
        "uploaded = files.upload()"
      ],
      "metadata": {
        "id": "5gmVno8Ki-Pi"
      },
      "execution_count": null,
      "outputs": []
    },
    {
      "cell_type": "code",
      "source": [
        "#read csv file and put into df array. KEEP MIND WITH ARRAY'S COLUMN AND ROW!\n",
        "df=pd.read_csv('data_cat_modified.csv',sep=',',header=None)\n",
        "#df[column][row], df[1][0] = flashpoint, not 1-aminopropan-2-ol"
      ],
      "metadata": {
        "id": "KEpQlOkRjimY"
      },
      "execution_count": 4,
      "outputs": []
    },
    {
      "cell_type": "code",
      "source": [
        "#Define calc module that can calculate whole rdkit descriptor\n",
        "calc = MoleculeDescriptors.MolecularDescriptorCalculator([x[0] for x in Descriptors._descList])"
      ],
      "metadata": {
        "id": "I0l0nMu7joHQ"
      },
      "execution_count": 5,
      "outputs": []
    },
    {
      "cell_type": "code",
      "source": [
        "#If you curious about the RDkit descriptors list, please run this cell\n",
        "descriptors_list = [x[0] for x in Descriptors._descList]\n",
        "print(descriptors_list)"
      ],
      "metadata": {
        "id": "XYfaNrvgkbxo"
      },
      "execution_count": null,
      "outputs": []
    },
    {
      "cell_type": "code",
      "source": [
        "#Generating description dataset with rdkit.descriptor module.\n",
        "#True values are needed to be assigned same position with descriptor vector\n",
        "\n",
        "num_features = 104\n",
        "num_dataset = 14000\n",
        "epsilon = 1e-5\n",
        "\n",
        "dataset = np.empty((0, num_features))\n",
        "\n",
        "for i in range(num_dataset):\n",
        "  mol = Chem.MolFromSmiles(df[3][i])\n",
        "  vec = np.empty((1, num_features))\n",
        "  desc = calc.CalcDescriptors(mol)\n",
        "  for j in range(num_features):\n",
        "    vec[0][j] = desc[104+j]\n",
        "  vec[0][18] = epsilon #to eliminating molMR feature(overshooting)\n",
        "  dataset = np.append(dataset, vec, axis = 0)"
      ],
      "metadata": {
        "id": "lJ0EiwUSjs9b"
      },
      "execution_count": 7,
      "outputs": []
    },
    {
      "cell_type": "code",
      "source": [
        "#data pre-processing, fill the NaN data field with epsilon value\n",
        "for a in range(num_dataset):\n",
        "  for b in range(num_features):\n",
        "    if np.isnan(dataset[a][b]):\n",
        "      dataset[a][b] = epsilon"
      ],
      "metadata": {
        "id": "ChxpaxY9k0yH"
      },
      "execution_count": 8,
      "outputs": []
    },
    {
      "cell_type": "code",
      "source": [
        "#For normalization, fill the 0 data field with epsilon value\n",
        "for j in range(num_dataset):\n",
        "  for k in range(num_features):\n",
        "    if(dataset[j][k]==0):\n",
        "      dataset[j][k] += epsilon"
      ],
      "metadata": {
        "id": "xLP9w6iXk3Qg"
      },
      "execution_count": 9,
      "outputs": []
    },
    {
      "cell_type": "code",
      "source": [
        "#Separate dataset to training & testing\n",
        "num_train = (int)(num_dataset*0.8)\n",
        "\n",
        "fp_train = dataset[:num_train]\n",
        "flashpoint_train = df[2][:num_train]\n",
        "fp_test = dataset[num_train:num_dataset]\n",
        "flashpoint_test = df[2][num_train:num_dataset]"
      ],
      "metadata": {
        "id": "LttRpvLLk5ii"
      },
      "execution_count": 10,
      "outputs": []
    },
    {
      "cell_type": "code",
      "source": [
        "#Check out the feature set distribution\n",
        "ax=sns.heatmap(fp_train, vmin=0, vmax=10)"
      ],
      "metadata": {
        "id": "j-nNZAkqlDQc"
      },
      "execution_count": null,
      "outputs": []
    },
    {
      "cell_type": "markdown",
      "source": [
        "###Module 1\n",
        "#####Random forest section"
      ],
      "metadata": {
        "id": "oKTWnp9hnkw3"
      }
    },
    {
      "cell_type": "code",
      "source": [
        "#Duplicate train/test set for stability\n",
        "fp_train_fo = fp_train.copy()\n",
        "flashpoint_train_fo = flashpoint_train.copy()\n",
        "fp_test_fo = fp_test.copy()\n",
        "flashpoint_test_fo = flashpoint_test.copy()"
      ],
      "metadata": {
        "id": "OeE-_CygpMIj"
      },
      "execution_count": 12,
      "outputs": []
    },
    {
      "cell_type": "code",
      "source": [
        "#randomforest model generation and train using scikit learn package\n",
        "#n_estimators parameter is the number of random tree\n",
        "forest = RandomForestClassifier(n_estimators = 300)\n",
        "forest.fit(fp_train_fo, flashpoint_train_fo)\n",
        "forest_predictions = forest.predict(fp_test_fo)"
      ],
      "metadata": {
        "id": "C-iPggoXnsQv"
      },
      "execution_count": 41,
      "outputs": []
    },
    {
      "cell_type": "code",
      "source": [
        "#Evaluate accuracy\n",
        "count = 0\n",
        "for y in range(len(forest_predictions)):\n",
        "  if(forest_predictions[y]==flashpoint_test_fo[y+11200]):\n",
        "    count = count + 1\n",
        "print(count/len(forest_predictions))"
      ],
      "metadata": {
        "id": "yyZTbHdwpm7q"
      },
      "execution_count": null,
      "outputs": []
    },
    {
      "cell_type": "code",
      "source": [
        "#Generating confusion matrix for evaluation\n",
        "cm = confusion_matrix(flashpoint_test_fo, forest_predictions)\n",
        "plt.imshow(cm, interpolation='nearest', cmap=plt.cm.gray)\n",
        "plt.title('Confusion matrix')\n",
        "plt.colorbar()\n",
        "ticks = np.arange(4)\n",
        "plt.xticks(ticks, ticks)\n",
        "plt.yticks(ticks, ticks)\n",
        "plt.ylabel('True labels')\n",
        "plt.xlabel('Predicted labels')\n",
        "plt.show()"
      ],
      "metadata": {
        "id": "4D7iUgqPpyZQ"
      },
      "execution_count": null,
      "outputs": []
    },
    {
      "cell_type": "markdown",
      "source": [
        "###Module 2\n",
        "#####Decision tree section"
      ],
      "metadata": {
        "id": "3LFLeaDkqKUx"
      }
    },
    {
      "cell_type": "code",
      "source": [
        "#Duplicate train/test set for stability\n",
        "fp_train_dt = fp_train.copy()\n",
        "flashpoint_train_dt = flashpoint_train.copy()\n",
        "fp_test_dt = fp_test.copy()\n",
        "flashpoint_test_dt = flashpoint_test.copy()"
      ],
      "metadata": {
        "id": "1DYab62aqPy7"
      },
      "execution_count": 16,
      "outputs": []
    },
    {
      "cell_type": "code",
      "source": [
        "#decision tree model generation and train using scikit learn package\n",
        "#max_depth parameter is the number of decision tree\n",
        "dtree_model = DecisionTreeClassifier(max_depth = 100)\n",
        "dtree_model.fit(fp_train_dt, flashpoint_train_dt)\n",
        "dtree_predictions = dtree_model.predict(fp_test_dt)"
      ],
      "metadata": {
        "id": "gFcg7zZ_qoQy"
      },
      "execution_count": 17,
      "outputs": []
    },
    {
      "cell_type": "code",
      "source": [
        "#Evaluate accuracy\n",
        "count = 0\n",
        "for y in range(len(dtree_predictions)):\n",
        "  if(dtree_predictions[y]==flashpoint_test_dt[y+11200]):\n",
        "    count = count + 1\n",
        "print(count/len(dtree_predictions))"
      ],
      "metadata": {
        "id": "mdWxSCQAq_FN"
      },
      "execution_count": null,
      "outputs": []
    },
    {
      "cell_type": "code",
      "source": [
        "#Generating confusion matrix for evaluation\n",
        "cm = confusion_matrix(flashpoint_test_dt, dtree_predictions)\n",
        "plt.imshow(cm, interpolation='nearest', cmap=plt.cm.gray)\n",
        "plt.title('Confusion matrix')\n",
        "plt.colorbar()\n",
        "ticks = np.arange(4)\n",
        "plt.xticks(ticks, ticks)\n",
        "plt.yticks(ticks, ticks)\n",
        "plt.ylabel('True labels')\n",
        "plt.xlabel('Predicted labels')\n",
        "plt.show()"
      ],
      "metadata": {
        "id": "eYVgX2TjrVeA"
      },
      "execution_count": null,
      "outputs": []
    },
    {
      "cell_type": "markdown",
      "source": [
        "###Model 3\n",
        "#####KNN classifier section"
      ],
      "metadata": {
        "id": "vaVwEIhJrtnX"
      }
    },
    {
      "cell_type": "code",
      "source": [
        "#Duplicate train/test set for stability\n",
        "fp_train_kn = fp_train.copy()\n",
        "flashpoint_train_kn = flashpoint_train.copy()\n",
        "fp_test_kn = fp_test.copy()\n",
        "flashpoint_test_kn = flashpoint_test.copy()"
      ],
      "metadata": {
        "id": "RLZM-gtIr6bJ"
      },
      "execution_count": 20,
      "outputs": []
    },
    {
      "cell_type": "code",
      "source": [
        "#KNN model generation and train using scikit learn package\n",
        "#n_neighbors parameter is the parameter about neighbor's number\n",
        "knn = KNeighborsClassifier(n_neighbors = 3)\n",
        "knn.fit(fp_train_kn, flashpoint_train_kn)\n",
        "knn_predictions = knn.predict(fp_test_kn)"
      ],
      "metadata": {
        "id": "V-9XKVyDryTH"
      },
      "execution_count": 21,
      "outputs": []
    },
    {
      "cell_type": "code",
      "source": [
        "#Evaluate accuracy\n",
        "count = 0\n",
        "for y in range(len(knn_predictions)):\n",
        "  if(knn_predictions[y]==flashpoint_test_kn[y+11200]):\n",
        "    count = count + 1\n",
        "print(count/len(knn_predictions))"
      ],
      "metadata": {
        "id": "58kJOZFIsA_9"
      },
      "execution_count": null,
      "outputs": []
    },
    {
      "cell_type": "code",
      "source": [
        "#Generating confusion matrix for evaluation\n",
        "cm = confusion_matrix(flashpoint_test_kn, knn_predictions)\n",
        "plt.imshow(cm, interpolation='nearest', cmap=plt.cm.gray)\n",
        "plt.title('Confusion matrix')\n",
        "plt.colorbar()\n",
        "ticks = np.arange(4)\n",
        "plt.xticks(ticks, ticks)\n",
        "plt.yticks(ticks, ticks)\n",
        "plt.ylabel('True labels')\n",
        "plt.xlabel('Predicted labels')\n",
        "plt.show()"
      ],
      "metadata": {
        "id": "1QhtBADfsYGW"
      },
      "execution_count": null,
      "outputs": []
    },
    {
      "cell_type": "markdown",
      "source": [
        "###Prediction merge module(ensemble)\n",
        "#####Ensemble by voting algorithm"
      ],
      "metadata": {
        "id": "O5mIP15pqKUe"
      }
    },
    {
      "cell_type": "code",
      "source": [
        "from sklearn.ensemble import VotingClassifier"
      ],
      "metadata": {
        "id": "2cpoyE5zqQjs"
      },
      "execution_count": 31,
      "outputs": []
    },
    {
      "cell_type": "code",
      "source": [
        "soft_vote  = VotingClassifier([('fr',forest),('dt',dtree_model),('knn',knn)], voting='soft')\n",
        "soft_vote = soft_vote.fit(fp_train, flashpoint_train)"
      ],
      "metadata": {
        "id": "5Qyh_fKFqtgC"
      },
      "execution_count": 32,
      "outputs": []
    },
    {
      "cell_type": "code",
      "source": [
        "ensemble_pred = soft_vote.predict(fp_test)"
      ],
      "metadata": {
        "id": "GdrYISWhsq-7"
      },
      "execution_count": 33,
      "outputs": []
    },
    {
      "cell_type": "code",
      "source": [
        "#Evaluate accuracy\n",
        "count = 0\n",
        "for y in range(len(ensemble_pred)):\n",
        "  if(ensemble_pred[y]==flashpoint_test_kn[y+11200]):\n",
        "    count = count + 1\n",
        "print(count/len(ensemble_pred))"
      ],
      "metadata": {
        "colab": {
          "base_uri": "https://localhost:8080/"
        },
        "id": "ocQwHZiws3dW",
        "outputId": "460c043f-c3d0-484a-bd06-e7ea5863d11f"
      },
      "execution_count": 34,
      "outputs": [
        {
          "output_type": "stream",
          "name": "stdout",
          "text": [
            "0.9139285714285714\n"
          ]
        }
      ]
    },
    {
      "cell_type": "code",
      "source": [
        "#Generating confusion matrix for evaluation\n",
        "cm = confusion_matrix(flashpoint_test_dt, ensemble_pred)\n",
        "plt.imshow(cm, interpolation='nearest', cmap=plt.cm.gray)\n",
        "plt.title('Confusion matrix')\n",
        "plt.colorbar()\n",
        "ticks = np.arange(4)\n",
        "plt.xticks(ticks, ticks)\n",
        "plt.yticks(ticks, ticks)\n",
        "plt.ylabel('True labels')\n",
        "plt.xlabel('Predicted labels')\n",
        "plt.show()"
      ],
      "metadata": {
        "colab": {
          "base_uri": "https://localhost:8080/",
          "height": 295
        },
        "id": "VFwVouKxtbgn",
        "outputId": "e88fdf58-f820-4300-e382-1fb10a53421b"
      },
      "execution_count": 35,
      "outputs": [
        {
          "output_type": "display_data",
          "data": {
            "image/png": "[encoded data removed]",
            "text/plain": [
              "<Figure size 432x288 with 2 Axes>"
            ]
          },
          "metadata": {
            "needs_background": "light"
          }
        }
      ]
    },
    {
      "cell_type": "markdown",
      "source": [
        "###Prediction merge module\n",
        "#####Merge by random weighted average"
      ],
      "metadata": {
        "id": "-li3ZrVvuPFp"
      }
    },
    {
      "cell_type": "code",
      "source": [
        "forest_test_pred = forest.predict(fp_train)\n",
        "dtree_test_pred = dtree_model.predict(fp_train)\n",
        "knn_test_pred = knn.predict(fp_train)"
      ],
      "metadata": {
        "id": "rMssiW90v7dh"
      },
      "execution_count": 24,
      "outputs": []
    },
    {
      "cell_type": "code",
      "source": [
        "pred_final = np.zeros((1, 11200))"
      ],
      "metadata": {
        "id": "5piiHJmJwt8P"
      },
      "execution_count": 25,
      "outputs": []
    },
    {
      "cell_type": "code",
      "source": [
        "#Randomly generage weight to calculate weighted average of prediction of train dataset\n",
        "n_iter = 3000\n",
        "\n",
        "parameters = np.zeros((4, n_iter))\n",
        "\n",
        "for b in range(n_iter):\n",
        "  same = 0\n",
        "  different = 0\n",
        "  true = 0\n",
        "  false = 0\n",
        "  w1 = random()\n",
        "  w2 = random()\n",
        "  w3 = random()\n",
        "  for a in range(11200):\n",
        "    if((forest_test_pred[a]==dtree_test_pred[a])and\n",
        "      (dtree_test_pred[a]==knn_test_pred[a])and\n",
        "      (knn_test_pred[a]==forest_test_pred[a])):\n",
        "      pred_final[0][a] = forest_test_pred[a]\n",
        "      same = same + 1\n",
        "    else:\n",
        "      different = different + 1\n",
        "      pred_final[0][a] = round((w1*forest_test_pred[a]+w2*dtree_test_pred[a]+w3*knn_test_pred[a])/(w1+w2+w3))\n",
        "    if(pred_final[0][a]==flashpoint_train[a]):\n",
        "      true = true + 1\n",
        "    else:\n",
        "      false = false + 1\n",
        "  parameters[0][b] = true/11200\n",
        "  parameters[1][b] = w1\n",
        "  parameters[2][b] = w2\n",
        "  parameters[3][b] = w3"
      ],
      "metadata": {
        "id": "FT8Sgv-3uk8l"
      },
      "execution_count": 26,
      "outputs": []
    },
    {
      "cell_type": "code",
      "source": [
        "print(parameters[0][np.argmax(parameters[0])])"
      ],
      "metadata": {
        "id": "Q9c__lM3Gg_H"
      },
      "execution_count": null,
      "outputs": []
    },
    {
      "cell_type": "code",
      "source": [
        "#Calculate final prediction with given weight above\n",
        "pred_final_test = np.zeros((1, 2800))\n",
        "\n",
        "same = 0\n",
        "different = 0\n",
        "true = 0\n",
        "false = 0\n",
        "w1 = parameters[1][np.argmax(parameters[0])]\n",
        "w2 = parameters[2][np.argmax(parameters[0])]\n",
        "w3 = parameters[3][np.argmax(parameters[0])]\n",
        "for a in range(2800):\n",
        "  if((forest_predictions[a]==dtree_predictions[a])and\n",
        "    (dtree_predictions[a]==knn_predictions[a])and\n",
        "    (knn_predictions[a]==forest_predictions[a])):\n",
        "    pred_final_test[0][a] = forest_predictions[a]\n",
        "    same = same + 1\n",
        "  else:\n",
        "    different = different + 1\n",
        "    pred_final_test[0][a] = round((w1*forest_predictions[a]+w2*dtree_predictions[a]+w3*knn_predictions[a])/(w1+w2+w3))\n",
        "  if(pred_final_test[0][a]==flashpoint_test_dt[11200+a]):\n",
        "    true = true + 1\n",
        "  else:\n",
        "    false = false + 1\n",
        "print(true/2800)"
      ],
      "metadata": {
        "id": "zryZQOS09xi4"
      },
      "execution_count": null,
      "outputs": []
    },
    {
      "cell_type": "code",
      "source": [
        "#Generating confusion matrix for evaluation\n",
        "pred_final_test = np.ravel(pred_final_test, order='C')\n",
        "cm = confusion_matrix(flashpoint_test_fo, pred_final_test)\n",
        "plt.imshow(cm, interpolation='nearest', cmap=plt.cm.gray)\n",
        "plt.title('Confusion matrix')\n",
        "plt.colorbar()\n",
        "ticks = np.arange(4)\n",
        "plt.xticks(ticks, ticks)\n",
        "plt.yticks(ticks, ticks)\n",
        "plt.ylabel('True labels')\n",
        "plt.xlabel('Predicted labels')\n",
        "plt.show()"
      ],
      "metadata": {
        "id": "o-5fIplXAjcq"
      },
      "execution_count": null,
      "outputs": []
    },
    {
      "cell_type": "code",
      "source": [
        "#simple average result, just for test\n",
        "pred_final_test = np.zeros((1, 2800))\n",
        "same = 0\n",
        "different = 0\n",
        "true = 0\n",
        "false = 0\n",
        "w1 = 1\n",
        "w2 = 1\n",
        "w3 = 1\n",
        "for a in range(2800):\n",
        "  if((forest_predictions[a]==dtree_predictions[a])and\n",
        "    (dtree_predictions[a]==knn_predictions[a])and\n",
        "    (knn_predictions[a]==forest_predictions[a])):\n",
        "    pred_final_test[0][a] = forest_predictions[a]\n",
        "    same = same + 1\n",
        "  else:\n",
        "    different = different + 1\n",
        "    pred_final_test[0][a] = round((w1*forest_predictions[a]+w2*dtree_predictions[a]+w3*knn_predictions[a])/(w1+w2+w3))\n",
        "  if(pred_final_test[0][a]==flashpoint_test_dt[11200+a]):\n",
        "    true = true + 1\n",
        "  else:\n",
        "    false = false + 1\n",
        "print(true/2800)"
      ],
      "metadata": {
        "id": "2HHelT7yAHU6"
      },
      "execution_count": null,
      "outputs": []
    },
    {
      "cell_type": "code",
      "source": [
        "#Generating confusion matrix for evaluation\n",
        "pred_final_test = np.ravel(pred_final_test, order='C')\n",
        "cm = confusion_matrix(flashpoint_test_fo, pred_final_test)\n",
        "plt.imshow(cm, interpolation='nearest', cmap=plt.cm.gray)\n",
        "plt.title('Confusion matrix')\n",
        "plt.colorbar()\n",
        "ticks = np.arange(4)\n",
        "plt.xticks(ticks, ticks)\n",
        "plt.yticks(ticks, ticks)\n",
        "plt.ylabel('True labels')\n",
        "plt.xlabel('Predicted labels')\n",
        "plt.show()"
      ],
      "metadata": {
        "id": "zy56fqBFBkpW"
      },
      "execution_count": null,
      "outputs": []
    },
    {
      "cell_type": "markdown",
      "source": [
        "###Model feature check part(don't have to run in unnecessary case.)"
      ],
      "metadata": {
        "id": "_aAaM7WDPNjm"
      }
    },
    {
      "cell_type": "code",
      "source": [
        "acc_temp = np.zeros(104)\n",
        "\n",
        "for t in range(num_features):\n",
        "  fp_train_fo = fp_train.copy()\n",
        "  flashpoint_train_fo = flashpoint_train.copy()\n",
        "  fp_test_fo = fp_test.copy()\n",
        "  flashpoint_test_fo = flashpoint_test.copy()\n",
        "  for v in range(11200):\n",
        "    fp_train_fo[v][t] = epsilon\n",
        "  for q in range(2800):\n",
        "    fp_test_fo[q][t] = epsilon\n",
        "  forest = RandomForestClassifier(n_estimators = 300)\n",
        "  forest.fit(fp_train_fo, flashpoint_train_fo)\n",
        "  forest_predictions = forest.predict(fp_test_fo)\n",
        "  count = 0\n",
        "  for y in range(len(forest_predictions)):\n",
        "    if(forest_predictions[y]==flashpoint_test_fo[y+11200]):\n",
        "      count = count + 1\n",
        "  print(t,'번째 feature를 지우면 정확도는',count/len(forest_predictions))\n",
        "  acc_temp[t] = count/len(forest_predictions)"
      ],
      "metadata": {
        "id": "nsCFmROpPWJ0"
      },
      "execution_count": null,
      "outputs": []
    }
  ]
}